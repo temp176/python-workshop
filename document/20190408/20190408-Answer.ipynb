{
 "cells": [
  {
   "cell_type": "markdown",
   "metadata": {},
   "source": [
    "## Hello World"
   ]
  },
  {
   "cell_type": "code",
   "execution_count": 14,
   "metadata": {},
   "outputs": [
    {
     "name": "stdout",
     "output_type": "stream",
     "text": [
      "Hello World\n"
     ]
    }
   ],
   "source": [
    "print(\"Hello World\") # Shift(⬆︎) + Enter で実行"
   ]
  },
  {
   "cell_type": "code",
   "execution_count": 20,
   "metadata": {
    "scrolled": true
   },
   "outputs": [
    {
     "name": "stdout",
     "output_type": "stream",
     "text": [
      "Hello World\n"
     ]
    }
   ],
   "source": [
    "print(\"Hello\",\"World\") # コンマを打つと空白付きで複数の値を表示"
   ]
  },
  {
   "cell_type": "markdown",
   "metadata": {},
   "source": [
    "## 1 基本的なデータ型"
   ]
  },
  {
   "cell_type": "markdown",
   "metadata": {},
   "source": [
    "### 1.1 変数について"
   ]
  },
  {
   "cell_type": "code",
   "execution_count": 39,
   "metadata": {},
   "outputs": [
    {
     "name": "stdout",
     "output_type": "stream",
     "text": [
      "1\n",
      "1 2\n",
      "Hello\n",
      "Hello\n"
     ]
    }
   ],
   "source": [
    "a = 1 # 型宣言はいらない\n",
    "b,c = 1,2\n",
    "print(a)\n",
    "print(b,c)\n",
    "\n",
    "a = \"Hello\"\n",
    "print(a)\n",
    "b = a\n",
    "print(b)"
   ]
  },
  {
   "cell_type": "markdown",
   "metadata": {},
   "source": [
    "### 1.2 変数の型の確認"
   ]
  },
  {
   "cell_type": "code",
   "execution_count": 38,
   "metadata": {},
   "outputs": [
    {
     "name": "stdout",
     "output_type": "stream",
     "text": [
      "<class 'int'>\n",
      "<class 'float'>\n",
      "<class 'str'>\n"
     ]
    }
   ],
   "source": [
    "a = 1\n",
    "b = 1.234\n",
    "c = \"Hello\"\n",
    "print(type(a))\n",
    "print(type(b))\n",
    "print(type(c))"
   ]
  },
  {
   "cell_type": "markdown",
   "metadata": {},
   "source": [
    "### 1.3 ブール型"
   ]
  },
  {
   "cell_type": "code",
   "execution_count": 63,
   "metadata": {},
   "outputs": [
    {
     "name": "stdout",
     "output_type": "stream",
     "text": [
      "True\n",
      "False\n"
     ]
    }
   ],
   "source": [
    "print(True)\n",
    "print(False)"
   ]
  },
  {
   "cell_type": "markdown",
   "metadata": {},
   "source": [
    "### 1.4 数"
   ]
  },
  {
   "cell_type": "code",
   "execution_count": 23,
   "metadata": {},
   "outputs": [
    {
     "name": "stdout",
     "output_type": "stream",
     "text": [
      "整数 :  1\n",
      "小数 :  1.234\n",
      "複素数 :  (1+2j)\n"
     ]
    }
   ],
   "source": [
    "print(\"整数 : \",1)\n",
    "print(\"小数 : \",1.234)\n",
    "print(\"複素数 : \",1 + 2j)"
   ]
  },
  {
   "cell_type": "markdown",
   "metadata": {},
   "source": [
    "#### 演算"
   ]
  },
  {
   "cell_type": "code",
   "execution_count": 47,
   "metadata": {},
   "outputs": [
    {
     "name": "stdout",
     "output_type": "stream",
     "text": [
      "加算 12\n",
      "減算 -6\n",
      "乗算 10\n",
      "徐算 2.5\n",
      "徐算 2.0\n",
      "切り捨て徐算 2\n",
      "切り捨て徐算 2\n",
      "剰余 1\n",
      "指数 1024\n"
     ]
    }
   ],
   "source": [
    "print(\"加算\",5 + 7)\n",
    "print(\"減算\",4 - 10)\n",
    "print(\"乗算\",2 * 5)\n",
    "print(\"徐算\",5 / 2) # 整数同士の計算でも浮動小数点数で返される\n",
    "print(\"徐算\",4 / 2) # 計算結果が整数でも同様\n",
    "print(\"切り捨て徐算\",5 // 2) # 剰余を切り捨てて整数を返す演算も可能\n",
    "print(\"剰余\",7 % 3)\n",
    "print(\"指数\",2 ** 10) # 指数計算が可能"
   ]
  },
  {
   "cell_type": "code",
   "execution_count": 69,
   "metadata": {},
   "outputs": [
    {
     "name": "stdout",
     "output_type": "stream",
     "text": [
      "1.234\n"
     ]
    }
   ],
   "source": [
    "print(1 + 0.234) # 異なる型を混ぜると勝手に変換する"
   ]
  },
  {
   "cell_type": "code",
   "execution_count": 40,
   "metadata": {},
   "outputs": [
    {
     "name": "stdout",
     "output_type": "stream",
     "text": [
      "10\n",
      "5.0\n"
     ]
    }
   ],
   "source": [
    "a = 8\n",
    "a += 2\n",
    "print(a)\n",
    "a /= 2\n",
    "print(a)"
   ]
  },
  {
   "cell_type": "markdown",
   "metadata": {},
   "source": [
    "#### 型の変換"
   ]
  },
  {
   "cell_type": "code",
   "execution_count": 66,
   "metadata": {},
   "outputs": [
    {
     "name": "stdout",
     "output_type": "stream",
     "text": [
      "1\n",
      "1.0\n",
      "1234\n",
      "1.234\n",
      "1\n",
      "0\n"
     ]
    }
   ],
   "source": [
    "print(int(1.234)) # int()で整数へ変換（小数部を切り捨てる）\n",
    "print(float(1)) # float()で浮動小数点数へ変換\n",
    "print(int(\"1234\")) # 文字列も変換可能\n",
    "print(float(\"1.234\")) # 文字列も変換可能\n",
    "print(int(True)) # ブール型も変換可能\n",
    "print(int(False))"
   ]
  },
  {
   "cell_type": "markdown",
   "metadata": {},
   "source": [
    "### 1.5 文字列"
   ]
  },
  {
   "cell_type": "markdown",
   "metadata": {},
   "source": [
    "#### 作成"
   ]
  },
  {
   "cell_type": "code",
   "execution_count": 26,
   "metadata": {},
   "outputs": [
    {
     "name": "stdout",
     "output_type": "stream",
     "text": [
      "Hello World\n",
      "Hello World\n"
     ]
    }
   ],
   "source": [
    "print(\"Hello World\") # \"\"か''で囲う\n",
    "print('Hello World')"
   ]
  },
  {
   "cell_type": "code",
   "execution_count": 41,
   "metadata": {},
   "outputs": [
    {
     "name": "stdout",
     "output_type": "stream",
     "text": [
      "\n"
     ]
    }
   ],
   "source": [
    "b = \"\"\n",
    "print(b) # 空の文字列も有効"
   ]
  },
  {
   "cell_type": "markdown",
   "metadata": {},
   "source": [
    "#### 型変換"
   ]
  },
  {
   "cell_type": "code",
   "execution_count": 42,
   "metadata": {},
   "outputs": [
    {
     "name": "stdout",
     "output_type": "stream",
     "text": [
      "<class 'int'>\n",
      "<class 'str'>\n",
      "10\n"
     ]
    }
   ],
   "source": [
    "a = 10\n",
    "print(type(a))\n",
    "a = str(a) # str()で文字列へ変換\n",
    "print(type(a))\n",
    "print(a)"
   ]
  },
  {
   "cell_type": "markdown",
   "metadata": {},
   "source": [
    "#### 連結"
   ]
  },
  {
   "cell_type": "code",
   "execution_count": 88,
   "metadata": {},
   "outputs": [
    {
     "name": "stdout",
     "output_type": "stream",
     "text": [
      "Hello world\n"
     ]
    }
   ],
   "source": [
    "a = \"Hello \"\n",
    "b = \"world\"\n",
    "print(a + b)"
   ]
  },
  {
   "cell_type": "markdown",
   "metadata": {},
   "source": [
    "#### 繰り返し"
   ]
  },
  {
   "cell_type": "code",
   "execution_count": 93,
   "metadata": {},
   "outputs": [
    {
     "name": "stdout",
     "output_type": "stream",
     "text": [
      "Hello Hello \n"
     ]
    }
   ],
   "source": [
    "a = \"Hello \"\n",
    "print(a * 2)"
   ]
  },
  {
   "cell_type": "markdown",
   "metadata": {},
   "source": [
    "#### []による文字の抽出"
   ]
  },
  {
   "cell_type": "code",
   "execution_count": 97,
   "metadata": {},
   "outputs": [
    {
     "name": "stdout",
     "output_type": "stream",
     "text": [
      "0\n",
      "3\n",
      "5\n",
      "4\n"
     ]
    }
   ],
   "source": [
    "a = \"012345\"\n",
    "print(a[0]) # 先頭の文字を抽出\n",
    "print(a[3])\n",
    "print(a[-1]) #　末尾の文字を抽出\n",
    "print(a[-2])"
   ]
  },
  {
   "cell_type": "markdown",
   "metadata": {},
   "source": [
    "#### [start:end:step]によるスライス"
   ]
  },
  {
   "cell_type": "code",
   "execution_count": 108,
   "metadata": {},
   "outputs": [
    {
     "name": "stdout",
     "output_type": "stream",
     "text": [
      "012345\n",
      "12345\n",
      "01234\n",
      "1234\n",
      "13\n",
      "543210\n"
     ]
    }
   ],
   "source": [
    "a = \"012345\"\n",
    "print(a[:]) # 文字列全体を抽出\n",
    "print(a[1:]) # start文字目から抽出\n",
    "print(a[:5]) # end-1文字目まで抽出\n",
    "print(a[1:5]) # start文字目からend-1文字目まで抽出\n",
    "print(a[1:5:2]) # start文字目からend-1文字目までstep文字ごとに抽出\n",
    "print(a[::-1]) # stepを負の値にすると逆順から抽出できる"
   ]
  },
  {
   "cell_type": "markdown",
   "metadata": {},
   "source": [
    "#### 文字列の長さを取得"
   ]
  },
  {
   "cell_type": "code",
   "execution_count": 111,
   "metadata": {},
   "outputs": [
    {
     "name": "stdout",
     "output_type": "stream",
     "text": [
      "5\n"
     ]
    }
   ],
   "source": [
    "a = \"01234\"\n",
    "print(len(a)) # len()で文字列の長さが得られる"
   ]
  },
  {
   "cell_type": "markdown",
   "metadata": {},
   "source": [
    "### 2 リスト，タプル，辞書，集合"
   ]
  },
  {
   "cell_type": "markdown",
   "metadata": {},
   "source": [
    "### 2.1 リスト"
   ]
  },
  {
   "cell_type": "markdown",
   "metadata": {},
   "source": [
    "#### 作成"
   ]
  },
  {
   "cell_type": "code",
   "execution_count": 125,
   "metadata": {},
   "outputs": [
    {
     "name": "stdout",
     "output_type": "stream",
     "text": [
      "[1, 2, 3, 4, 5]\n",
      "[]\n",
      "[]\n"
     ]
    }
   ],
   "source": [
    "# リストはC言語の配列みたいなもの\n",
    "list1 = [1,2,3,4,5]\n",
    "empty_list1 = []\n",
    "empty_list2 = list()\n",
    "\n",
    "print(list1)\n",
    "print(empty_list1)\n",
    "print(empty_list2)"
   ]
  },
  {
   "cell_type": "code",
   "execution_count": 127,
   "metadata": {},
   "outputs": [
    {
     "name": "stdout",
     "output_type": "stream",
     "text": [
      "[1, 'abcd', True]\n"
     ]
    }
   ],
   "source": [
    "# 異なるデータ型を混ぜることも可能\n",
    "list_mix = [1,\"abcd\",True]\n",
    "print(list_mix)"
   ]
  },
  {
   "cell_type": "markdown",
   "metadata": {},
   "source": [
    "#### 文字列からリストへの変換"
   ]
  },
  {
   "cell_type": "code",
   "execution_count": 121,
   "metadata": {},
   "outputs": [
    {
     "name": "stdout",
     "output_type": "stream",
     "text": [
      "['c', 'a', 't']\n",
      "['I', 'like', 'Python.']\n"
     ]
    }
   ],
   "source": [
    "str_cat = \"cat\"\n",
    "str_sentence = \"I like Python.\"\n",
    "print(list(str_cat)) # list()で文字列をリストへ変換\n",
    "print(str_sentence.split(\" \")) # sprit()で指定した文字で分割したものをリスト化"
   ]
  },
  {
   "cell_type": "markdown",
   "metadata": {},
   "source": [
    "#### []による要素の抽出・書き換え"
   ]
  },
  {
   "cell_type": "code",
   "execution_count": 124,
   "metadata": {},
   "outputs": [
    {
     "name": "stdout",
     "output_type": "stream",
     "text": [
      "0\n",
      "3\n",
      "5\n",
      "4\n"
     ]
    }
   ],
   "source": [
    "# 文字列の場合と同じように抽出できる\n",
    "a = [0,1,2,3,4,5]\n",
    "print(a[0]) # 先頭の要素を抽出\n",
    "print(a[3])\n",
    "print(a[-1]) #　末尾要素を抽出\n",
    "print(a[-2])"
   ]
  },
  {
   "cell_type": "code",
   "execution_count": 128,
   "metadata": {},
   "outputs": [
    {
     "name": "stdout",
     "output_type": "stream",
     "text": [
      "[6, 1, 2, 3, 4, 5]\n"
     ]
    }
   ],
   "source": [
    "# リスト場合は指定した要素を書き換えることができる\n",
    "a = [0,1,2,3,4,5]\n",
    "a[0] = 6\n",
    "print(a)"
   ]
  },
  {
   "cell_type": "code",
   "execution_count": 137,
   "metadata": {},
   "outputs": [
    {
     "ename": "TypeError",
     "evalue": "'str' object does not support item assignment",
     "output_type": "error",
     "traceback": [
      "\u001b[0;31m---------------------------------------------------------------------------\u001b[0m",
      "\u001b[0;31mTypeError\u001b[0m                                 Traceback (most recent call last)",
      "\u001b[0;32m<ipython-input-137-e4de120e2bf3>\u001b[0m in \u001b[0;36m<module>\u001b[0;34m\u001b[0m\n\u001b[1;32m      1\u001b[0m \u001b[0;31m# 文字列では行えません\u001b[0m\u001b[0;34m\u001b[0m\u001b[0;34m\u001b[0m\u001b[0;34m\u001b[0m\u001b[0m\n\u001b[1;32m      2\u001b[0m \u001b[0ma\u001b[0m \u001b[0;34m=\u001b[0m \u001b[0;34m\"012345\"\u001b[0m\u001b[0;34m\u001b[0m\u001b[0;34m\u001b[0m\u001b[0m\n\u001b[0;32m----> 3\u001b[0;31m \u001b[0ma\u001b[0m\u001b[0;34m[\u001b[0m\u001b[0;36m0\u001b[0m\u001b[0;34m]\u001b[0m \u001b[0;34m=\u001b[0m \u001b[0;36m6\u001b[0m\u001b[0;34m\u001b[0m\u001b[0;34m\u001b[0m\u001b[0m\n\u001b[0m",
      "\u001b[0;31mTypeError\u001b[0m: 'str' object does not support item assignment"
     ]
    }
   ],
   "source": [
    "# 文字列では行えない\n",
    "a = \"012345\"\n",
    "a[0] = 6"
   ]
  },
  {
   "cell_type": "markdown",
   "metadata": {},
   "source": [
    "#### リストのリスト"
   ]
  },
  {
   "cell_type": "code",
   "execution_count": 135,
   "metadata": {},
   "outputs": [
    {
     "name": "stdout",
     "output_type": "stream",
     "text": [
      "[[0, 1, 2], [3, 4, 5]]\n",
      "0\n",
      "3\n"
     ]
    }
   ],
   "source": [
    "### 多次元のリストも作成可能\n",
    "list1 = [0,1,2]\n",
    "list2 = [3,4,5]\n",
    "list3 = [list1,list2] # list3 = [[0,1,2],[3,4,5]]\n",
    "print(list3)\n",
    "print(list3[0][0])\n",
    "print(list3[1][0])"
   ]
  },
  {
   "cell_type": "markdown",
   "metadata": {},
   "source": [
    "#### [start:end:step]によるスライス"
   ]
  },
  {
   "cell_type": "code",
   "execution_count": 139,
   "metadata": {},
   "outputs": [
    {
     "name": "stdout",
     "output_type": "stream",
     "text": [
      "[0, 1, 2, 3, 4, 5]\n",
      "[1, 2, 3, 4, 5]\n",
      "[0, 1, 2, 3, 4]\n",
      "[1, 2, 3, 4]\n",
      "[1, 3]\n",
      "[5, 4, 3, 2, 1, 0]\n"
     ]
    }
   ],
   "source": [
    "# これまた文字列と同じ\n",
    "# リストが返されます\n",
    "a = [0,1,2,3,4,5]\n",
    "print(a[:]) # リスト全体を抽出\n",
    "print(a[1:]) # start要素目から抽出\n",
    "print(a[:5]) # end-1要素目まで抽出\n",
    "print(a[1:5]) # star要素目からend-1要素目まで抽出\n",
    "print(a[1:5:2]) # start要素目からend-1要素目までstep要素ごとに抽出\n",
    "print(a[::-1]) # stepを負の値にすると逆順から抽出できる"
   ]
  },
  {
   "cell_type": "markdown",
   "metadata": {},
   "source": [
    "#### append()による要素の追加"
   ]
  },
  {
   "cell_type": "code",
   "execution_count": 140,
   "metadata": {},
   "outputs": [
    {
     "name": "stdout",
     "output_type": "stream",
     "text": [
      "[0, 1, 2, 3, 4, 5, 6]\n"
     ]
    }
   ],
   "source": [
    "a = [0,1,2,3,4,5]\n",
    "a.append(6)\n",
    "print(a)"
   ]
  },
  {
   "cell_type": "markdown",
   "metadata": {},
   "source": [
    "#### リスト同士の結合"
   ]
  },
  {
   "cell_type": "code",
   "execution_count": 144,
   "metadata": {},
   "outputs": [
    {
     "name": "stdout",
     "output_type": "stream",
     "text": [
      "[0, 1, 2, 3, 4, 5, 6, 7, 8, 9]\n",
      "[0, 1, 2, 3, 4, 5, 6, 7, 8, 9]\n"
     ]
    }
   ],
   "source": [
    "a = [0,1,2,3,4]\n",
    "b = [5,6,7,8,9]\n",
    "print(a + b)\n",
    "a.extend(b)\n",
    "print(a)"
   ]
  },
  {
   "cell_type": "markdown",
   "metadata": {},
   "source": [
    "#### リストの長さの取得"
   ]
  },
  {
   "cell_type": "code",
   "execution_count": 151,
   "metadata": {},
   "outputs": [
    {
     "name": "stdout",
     "output_type": "stream",
     "text": [
      "5\n"
     ]
    }
   ],
   "source": [
    "a = [1,2,3,4,5]\n",
    "print(len(a))"
   ]
  },
  {
   "cell_type": "markdown",
   "metadata": {},
   "source": [
    "#### リストをコピーするときの注意点"
   ]
  },
  {
   "cell_type": "code",
   "execution_count": 147,
   "metadata": {},
   "outputs": [
    {
     "name": "stdout",
     "output_type": "stream",
     "text": [
      "[10, 2, 3, 4, 5]\n",
      "[10, 2, 3, 4, 5]\n"
     ]
    }
   ],
   "source": [
    "a = [1,2,3,4,5]\n",
    "b = a # bにaをコピーするつもり\n",
    "b[0] = 10 # bの要素だけを書き換えるつもり\n",
    "print(b)\n",
    "print(a) # aの要素も書き換わってしまう"
   ]
  },
  {
   "cell_type": "code",
   "execution_count": 149,
   "metadata": {},
   "outputs": [
    {
     "name": "stdout",
     "output_type": "stream",
     "text": [
      "[1, 2, 3, 4, 5]\n",
      "[10, 2, 3, 4, 5]\n",
      "[20, 2, 3, 4, 5]\n",
      "[30, 2, 3, 4, 5]\n"
     ]
    }
   ],
   "source": [
    "# リストをコピーしたいときは以下のように書く\n",
    "a = [1,2,3,4,5]\n",
    "a_copy1 = a[:]\n",
    "a_copy2 = a.copy()\n",
    "a_copy3 = list(a)\n",
    "\n",
    "a_copy1[0] = 10\n",
    "a_copy2[0] = 20\n",
    "a_copy3[0] = 30\n",
    "\n",
    "print(a)\n",
    "print(a_copy1)\n",
    "print(a_copy2)\n",
    "print(a_copy3)"
   ]
  },
  {
   "cell_type": "markdown",
   "metadata": {},
   "source": [
    "#### その他の関数など"
   ]
  },
  {
   "cell_type": "code",
   "execution_count": 153,
   "metadata": {},
   "outputs": [
    {
     "name": "stdout",
     "output_type": "stream",
     "text": [
      "[-1, 0, 1, 2, 3, 4, 5]\n"
     ]
    }
   ],
   "source": [
    "list1 = [0,1,2,3,4,5]\n",
    "list1.insert(0,-1) # 0要素目に-1を挿入\n",
    "print(list1)"
   ]
  },
  {
   "cell_type": "code",
   "execution_count": 156,
   "metadata": {},
   "outputs": [
    {
     "name": "stdout",
     "output_type": "stream",
     "text": [
      "[1, 2, 3, 4, 5]\n"
     ]
    }
   ],
   "source": [
    "list1 = [0,1,2,3,4,5]\n",
    "del list1[0] # 0要素目を削除\n",
    "print(list1)"
   ]
  },
  {
   "cell_type": "code",
   "execution_count": 160,
   "metadata": {},
   "outputs": [
    {
     "name": "stdout",
     "output_type": "stream",
     "text": [
      "['b', 'c', 'd']\n"
     ]
    }
   ],
   "source": [
    "list1 = ['a','b','c','d']\n",
    "list1.remove('a') #指定した値の要素を削除\n",
    "print(list1)"
   ]
  },
  {
   "cell_type": "code",
   "execution_count": 52,
   "metadata": {},
   "outputs": [
    {
     "name": "stdout",
     "output_type": "stream",
     "text": [
      "b\n",
      "['a', 'c', 'd']\n"
     ]
    }
   ],
   "source": [
    "list1 = ['a','b','c','d']\n",
    "fac = list1.pop(1) #指定した場所の要素を取り出すと同時に削除\n",
    "print(fac)\n",
    "print(list1)"
   ]
  },
  {
   "cell_type": "code",
   "execution_count": 164,
   "metadata": {},
   "outputs": [
    {
     "name": "stdout",
     "output_type": "stream",
     "text": [
      "0\n"
     ]
    }
   ],
   "source": [
    "list1 = ['a','b','c','d']\n",
    "print(list1.index('a')) #指定した値がリストの何要素目にあるかを取得"
   ]
  },
  {
   "cell_type": "code",
   "execution_count": 166,
   "metadata": {},
   "outputs": [
    {
     "name": "stdout",
     "output_type": "stream",
     "text": [
      "True\n",
      "False\n"
     ]
    }
   ],
   "source": [
    "list1 = ['a','b','c','d']\n",
    "print('a' in list1) # inを使うとリストに指定した値が存在するかを判定できる\n",
    "print('z' in list1)"
   ]
  },
  {
   "cell_type": "code",
   "execution_count": 167,
   "metadata": {},
   "outputs": [
    {
     "name": "stdout",
     "output_type": "stream",
     "text": [
      "2\n"
     ]
    }
   ],
   "source": [
    "list1 = ['a','a','b','c','d']\n",
    "print(list1.count('a')) # 指定した値がリスト内にいくつあるかを取得"
   ]
  },
  {
   "cell_type": "code",
   "execution_count": 172,
   "metadata": {},
   "outputs": [
    {
     "name": "stdout",
     "output_type": "stream",
     "text": [
      "a-b-c-d\n",
      "abcd\n"
     ]
    }
   ],
   "source": [
    "list1 = ['a','b','c','d']\n",
    "print('-'.join(list1)) # join()を使うと指定した文字でリストを結合して文字列へ変換できる(split()の逆)\n",
    "print(''.join(list1))"
   ]
  },
  {
   "cell_type": "code",
   "execution_count": 175,
   "metadata": {},
   "outputs": [
    {
     "name": "stdout",
     "output_type": "stream",
     "text": [
      "None\n",
      "[-1, 2, 5, 6, 9, 10, 342, 873]\n",
      "[-1, 2, 5, 6, 9, 10, 342, 873]\n"
     ]
    }
   ],
   "source": [
    "list1 = [10,6,-1,873,5,342,2,9]\n",
    "list1_sorted = sorted(list1) # ソートしたlist1のコピーを返す\n",
    "list1.sort() # list1自体をソート\n",
    "print(list1.sort()) # こちらは何も返さない\n",
    "print(list1_sorted)\n",
    "print(list1)"
   ]
  },
  {
   "cell_type": "code",
   "execution_count": 183,
   "metadata": {},
   "outputs": [
    {
     "name": "stdout",
     "output_type": "stream",
     "text": [
      "873\n",
      "-1\n",
      "3\n",
      "2\n"
     ]
    }
   ],
   "source": [
    "list1 = [10,6,-1,873,5,342,2,9]\n",
    "print(max(list1)) # 最大値を取得\n",
    "print(min(list1)) # 最小値を取得\n",
    "\n",
    "print(max(1,2,3)) # 普通に値を渡すことでも使用可能\n",
    "print(min(2,4,5))"
   ]
  },
  {
   "cell_type": "markdown",
   "metadata": {},
   "source": [
    "### 2.2 タプル"
   ]
  },
  {
   "cell_type": "code",
   "execution_count": 53,
   "metadata": {},
   "outputs": [
    {
     "name": "stdout",
     "output_type": "stream",
     "text": [
      "(1, 2)\n",
      "(3, 4)\n"
     ]
    }
   ],
   "source": [
    "# ()で囲うかコンマで区切って作成\n",
    "tuple1 = (1,2)\n",
    "tuple2 = 3,4\n",
    "print(tuple1)\n",
    "print(tuple2)"
   ]
  },
  {
   "cell_type": "code",
   "execution_count": 197,
   "metadata": {},
   "outputs": [
    {
     "name": "stdout",
     "output_type": "stream",
     "text": [
      "1\n"
     ]
    }
   ],
   "source": [
    "# []で要素を取得できる\n",
    "tuple1 = (1,2)\n",
    "print(tuple1[0])"
   ]
  },
  {
   "cell_type": "code",
   "execution_count": 54,
   "metadata": {},
   "outputs": [
    {
     "ename": "TypeError",
     "evalue": "'tuple' object does not support item assignment",
     "output_type": "error",
     "traceback": [
      "\u001b[0;31m---------------------------------------------------------------------------\u001b[0m",
      "\u001b[0;31mTypeError\u001b[0m                                 Traceback (most recent call last)",
      "\u001b[0;32m<ipython-input-54-8209fbe8ca24>\u001b[0m in \u001b[0;36m<module>\u001b[0;34m\u001b[0m\n\u001b[1;32m      1\u001b[0m \u001b[0;31m# タプルは要素を書き換えることができない\u001b[0m\u001b[0;34m\u001b[0m\u001b[0;34m\u001b[0m\u001b[0;34m\u001b[0m\u001b[0m\n\u001b[1;32m      2\u001b[0m \u001b[0mtuple1\u001b[0m \u001b[0;34m=\u001b[0m \u001b[0;34m(\u001b[0m\u001b[0;36m1\u001b[0m\u001b[0;34m,\u001b[0m\u001b[0;36m2\u001b[0m\u001b[0;34m)\u001b[0m\u001b[0;34m\u001b[0m\u001b[0;34m\u001b[0m\u001b[0m\n\u001b[0;32m----> 3\u001b[0;31m \u001b[0mtuple1\u001b[0m\u001b[0;34m[\u001b[0m\u001b[0;36m0\u001b[0m\u001b[0;34m]\u001b[0m \u001b[0;34m=\u001b[0m \u001b[0;36m2\u001b[0m \u001b[0;31m# エラー発生\u001b[0m\u001b[0;34m\u001b[0m\u001b[0;34m\u001b[0m\u001b[0m\n\u001b[0m",
      "\u001b[0;31mTypeError\u001b[0m: 'tuple' object does not support item assignment"
     ]
    }
   ],
   "source": [
    "# タプルは要素を書き換えることができない\n",
    "tuple1 = (1,2)\n",
    "tuple1[0] = 2 # エラー発生"
   ]
  },
  {
   "cell_type": "code",
   "execution_count": 199,
   "metadata": {},
   "outputs": [
    {
     "name": "stdout",
     "output_type": "stream",
     "text": [
      "(1, 2, 3, 4)\n",
      "[1, 2, 3, 4]\n"
     ]
    }
   ],
   "source": [
    "# リスト⇄タプル\n",
    "list1 = [1,2,3,4]\n",
    "tuple1 = tuple(list1)\n",
    "print(tuple1)\n",
    "print(list(tuple1))"
   ]
  },
  {
   "cell_type": "code",
   "execution_count": 200,
   "metadata": {},
   "outputs": [
    {
     "name": "stdout",
     "output_type": "stream",
     "text": [
      "1 2 3\n",
      "2 1\n"
     ]
    }
   ],
   "source": [
    "# タプルを使うと一度に複数の変数を代入できる\n",
    "tuple1 = (1,2,3)\n",
    "a,b,c = tuple1\n",
    "print(a,b,c)\n",
    "\n",
    "# 値の入れ替えが簡単にできる\n",
    "a = 1\n",
    "b = 2\n",
    "a,b = b,a\n",
    "print(a,b)"
   ]
  },
  {
   "cell_type": "markdown",
   "metadata": {},
   "source": [
    "### 2.3 辞書\n",
    "* 他のプログラミング言語では連想配列やハッシュマップと呼ばれるもの\n",
    "* 個々の値に一意なキーが与えれらる"
   ]
  },
  {
   "cell_type": "markdown",
   "metadata": {},
   "source": [
    "####  作成"
   ]
  },
  {
   "cell_type": "code",
   "execution_count": 221,
   "metadata": {},
   "outputs": [
    {
     "name": "stdout",
     "output_type": "stream",
     "text": [
      "{'apple': 'fruit', 'banana': 'fruit', 'milk': 'drink'}\n",
      "fruit\n"
     ]
    }
   ],
   "source": [
    "dict1 = {\"apple\":\"fruit\",\"banana\":\"fruit\",\"milk\":\"drink\"} # {}を使って作成\n",
    "print(dict1)\n",
    "print(dict1[\"apple\"]) # キーを指定すると対応した値が得られる"
   ]
  },
  {
   "cell_type": "markdown",
   "metadata": {},
   "source": [
    "#### 変換"
   ]
  },
  {
   "cell_type": "code",
   "execution_count": 207,
   "metadata": {},
   "outputs": [
    {
     "name": "stdout",
     "output_type": "stream",
     "text": [
      "{'wow': 100, 'abs': 200}\n",
      "{'wow': 100, 'abs': 200}\n"
     ]
    }
   ],
   "source": [
    "# 二つの値のリストやタプルを辞書型に変換可能\n",
    "dict1 = dict([('wow',100), ('abs',200)])\n",
    "dict2 = dict([['wow',100], ['abs',200]])\n",
    "print(dict1)\n",
    "print(dict2)"
   ]
  },
  {
   "cell_type": "markdown",
   "metadata": {},
   "source": [
    "#### 要素の追加，変更"
   ]
  },
  {
   "cell_type": "code",
   "execution_count": 210,
   "metadata": {},
   "outputs": [
    {
     "name": "stdout",
     "output_type": "stream",
     "text": [
      "{'apple': 'fruit', 'banana': 'fruit', 'milk': 'drink', 'water': 'drink', 'grape': 'fruit'}\n"
     ]
    }
   ],
   "source": [
    "dict1 = {\"apple\":\"fruit\",\"banana\":\"fruit\",\"milk\":\"drink\",\"water\":\"fruit\"}\n",
    "dict1[\"water\"] = \"drink\" # 既存のキーを指定すると要素の変更ができる\n",
    "dict1[\"grape\"] = \"fruit\" # 存在しないキーを指定すると要素を追加できる\n",
    "print(dict1)"
   ]
  },
  {
   "cell_type": "markdown",
   "metadata": {},
   "source": [
    "#### 要素の結合"
   ]
  },
  {
   "cell_type": "code",
   "execution_count": 214,
   "metadata": {},
   "outputs": [
    {
     "name": "stdout",
     "output_type": "stream",
     "text": [
      "{'apple': 'fruit', 'banana': 'fruit', 'milk': 'drink', 'water': 'fruit'}\n"
     ]
    }
   ],
   "source": [
    "dict1 = {\"apple\":\"fruit\",\"banana\":\"fruit\"}\n",
    "dict2 = {\"milk\":\"drink\",\"water\":\"fruit\"}\n",
    "dict1.update(dict2)\n",
    "print(dict1)"
   ]
  },
  {
   "cell_type": "markdown",
   "metadata": {},
   "source": [
    "#### 要素の削除"
   ]
  },
  {
   "cell_type": "code",
   "execution_count": 217,
   "metadata": {},
   "outputs": [
    {
     "name": "stdout",
     "output_type": "stream",
     "text": [
      "{'banana': 'fruit', 'milk': 'drink', 'water': 'fruit'}\n",
      "{}\n"
     ]
    }
   ],
   "source": [
    "dict1 = {\"apple\":\"fruit\",\"banana\":\"fruit\",\"milk\":\"drink\",\"water\":\"fruit\"}\n",
    "del dict1[\"apple\"] # 指定した要素を削除\n",
    "print(dict1)\n",
    "dict1.clear() # 全て削除\n",
    "print(dict1)"
   ]
  },
  {
   "cell_type": "markdown",
   "metadata": {},
   "source": [
    "#### キーの存在の判定"
   ]
  },
  {
   "cell_type": "code",
   "execution_count": 220,
   "metadata": {},
   "outputs": [
    {
     "name": "stdout",
     "output_type": "stream",
     "text": [
      "True\n",
      "False\n"
     ]
    }
   ],
   "source": [
    "dict1 = {\"apple\":\"fruit\",\"banana\":\"fruit\",\"milk\":\"drink\",\"water\":\"fruit\"}\n",
    "print(\"apple\" in dict1)\n",
    "print(\"lemon\" in dict1)"
   ]
  },
  {
   "cell_type": "markdown",
   "metadata": {},
   "source": [
    "#### 要素の取得"
   ]
  },
  {
   "cell_type": "code",
   "execution_count": 224,
   "metadata": {},
   "outputs": [
    {
     "ename": "KeyError",
     "evalue": "'lemon'",
     "output_type": "error",
     "traceback": [
      "\u001b[0;31m---------------------------------------------------------------------------\u001b[0m",
      "\u001b[0;31mKeyError\u001b[0m                                  Traceback (most recent call last)",
      "\u001b[0;32m<ipython-input-224-39fd274ad377>\u001b[0m in \u001b[0;36m<module>\u001b[0;34m\u001b[0m\n\u001b[1;32m      1\u001b[0m \u001b[0mdict1\u001b[0m \u001b[0;34m=\u001b[0m \u001b[0;34m{\u001b[0m\u001b[0;34m\"apple\"\u001b[0m\u001b[0;34m:\u001b[0m\u001b[0;34m\"fruit\"\u001b[0m\u001b[0;34m,\u001b[0m\u001b[0;34m\"banana\"\u001b[0m\u001b[0;34m:\u001b[0m\u001b[0;34m\"fruit\"\u001b[0m\u001b[0;34m,\u001b[0m\u001b[0;34m\"milk\"\u001b[0m\u001b[0;34m:\u001b[0m\u001b[0;34m\"drink\"\u001b[0m\u001b[0;34m,\u001b[0m\u001b[0;34m\"water\"\u001b[0m\u001b[0;34m:\u001b[0m\u001b[0;34m\"fruit\"\u001b[0m\u001b[0;34m}\u001b[0m\u001b[0;34m\u001b[0m\u001b[0;34m\u001b[0m\u001b[0m\n\u001b[0;32m----> 2\u001b[0;31m \u001b[0mprint\u001b[0m\u001b[0;34m(\u001b[0m\u001b[0mdict1\u001b[0m\u001b[0;34m[\u001b[0m\u001b[0;34m\"lemon\"\u001b[0m\u001b[0;34m]\u001b[0m\u001b[0;34m)\u001b[0m\u001b[0;34m\u001b[0m\u001b[0;34m\u001b[0m\u001b[0m\n\u001b[0m",
      "\u001b[0;31mKeyError\u001b[0m: 'lemon'"
     ]
    }
   ],
   "source": [
    "dict1 = {\"apple\":\"fruit\",\"banana\":\"fruit\",\"milk\":\"drink\",\"water\":\"fruit\"}\n",
    "print(dict1[\"lemon\"]) # 存在しないキーを指定するとエラー"
   ]
  },
  {
   "cell_type": "code",
   "execution_count": 43,
   "metadata": {},
   "outputs": [
    {
     "name": "stdout",
     "output_type": "stream",
     "text": [
      "None\n",
      "key not in dict\n"
     ]
    }
   ],
   "source": [
    "dict1 = {\"apple\":\"fruit\",\"banana\":\"fruit\",\"milk\":\"drink\",\"water\":\"fruit\"}\n",
    "print(dict1.get(\"lemon\")) # get()を使うとエラーを回避できる\n",
    "print(dict1.get(\"lemon\",\"key not in dict\")) # 返り値を指定できる"
   ]
  },
  {
   "cell_type": "markdown",
   "metadata": {},
   "source": [
    "#### 色々取得"
   ]
  },
  {
   "cell_type": "code",
   "execution_count": 239,
   "metadata": {},
   "outputs": [
    {
     "name": "stdout",
     "output_type": "stream",
     "text": [
      "['apple', 'banana', 'milk', 'water']\n",
      "['fruit', 'fruit', 'drink', 'fruit']\n",
      "[('apple', 'fruit'), ('banana', 'fruit'), ('milk', 'drink'), ('water', 'fruit')]\n"
     ]
    }
   ],
   "source": [
    "dict1 = {\"apple\":\"fruit\",\"banana\":\"fruit\",\"milk\":\"drink\",\"water\":\"fruit\"}\n",
    "print(list(dict1.keys())) # 全てのキーを取得\n",
    "print(list(dict1.values())) # 全ての値を取得\n",
    "print(list(dict1.items())) # 全てのキーと値のペアを取得"
   ]
  },
  {
   "cell_type": "markdown",
   "metadata": {},
   "source": [
    "### 2.4 集合"
   ]
  },
  {
   "cell_type": "markdown",
   "metadata": {},
   "source": [
    "#### 作成"
   ]
  },
  {
   "cell_type": "code",
   "execution_count": 246,
   "metadata": {},
   "outputs": [
    {
     "name": "stdout",
     "output_type": "stream",
     "text": [
      "{1, 2, 3, 4}\n"
     ]
    }
   ],
   "source": [
    "set1 = {1,2,3,4,4} # キーだけの辞書のようなもの\n",
    "print(set1) # 重複を許さない（辞書のキー同様），順序がない"
   ]
  },
  {
   "cell_type": "markdown",
   "metadata": {},
   "source": [
    "#### 変換"
   ]
  },
  {
   "cell_type": "code",
   "execution_count": 251,
   "metadata": {},
   "outputs": [
    {
     "name": "stdout",
     "output_type": "stream",
     "text": [
      "{'H', 'o', 'l', 'e'}\n",
      "{0, 1, 2, 3}\n",
      "{'water', 'apple', 'banana', 'milk'}\n"
     ]
    }
   ],
   "source": [
    "print(set(\"Hello\"))\n",
    "print(set([0,1,2,3,1,2]))\n",
    "print(set({\"apple\":\"fruit\",\"banana\":\"fruit\",\"milk\":\"drink\",\"water\":\"fruit\"})) # 辞書型の場合キーだけ残る"
   ]
  },
  {
   "cell_type": "code",
   "execution_count": 35,
   "metadata": {},
   "outputs": [
    {
     "name": "stdout",
     "output_type": "stream",
     "text": [
      "[1, 2, 3, 4, 5]\n"
     ]
    }
   ],
   "source": [
    "# リストの重複除去とかで使うことも多い\n",
    "list1 = [1,2,3,2,1,4,5]\n",
    "print(list(set(list1)))"
   ]
  },
  {
   "cell_type": "markdown",
   "metadata": {},
   "source": [
    "#### 演算"
   ]
  },
  {
   "cell_type": "code",
   "execution_count": 36,
   "metadata": {},
   "outputs": [
    {
     "name": "stdout",
     "output_type": "stream",
     "text": [
      "{3, 4}\n",
      "{1, 2, 3, 4, 5, 6}\n",
      "{1, 2}\n",
      "{1, 2, 5, 6}\n"
     ]
    }
   ],
   "source": [
    "#　集合の演算ができる\n",
    "set1 = {1,2,3,4}\n",
    "set2 = {3,4,5,6}\n",
    "print(set1 & set2) # 積集合\n",
    "print(set1 | set2) # 和集合\n",
    "print(set1 - set2) # 差集合\n",
    "print(set1 ^ set2) # 排他的論理和"
   ]
  },
  {
   "cell_type": "markdown",
   "metadata": {},
   "source": [
    "## 3 コード構造"
   ]
  },
  {
   "cell_type": "markdown",
   "metadata": {},
   "source": [
    "### 3.1 比較演算子"
   ]
  },
  {
   "cell_type": "code",
   "execution_count": 47,
   "metadata": {},
   "outputs": [
    {
     "name": "stdout",
     "output_type": "stream",
     "text": [
      "True\n",
      "False\n",
      "True\n",
      "True\n",
      "False\n",
      "True\n",
      "False\n",
      "True\n"
     ]
    }
   ],
   "source": [
    "print(1 < 2)\n",
    "print(1 > 1)\n",
    "print(1 >= 1)\n",
    "print(1 == 1)\n",
    "print(1 != 1)\n",
    "print(\"a\" in \"abcd\") # \"a\"が\"abcd\"に含まれているか\n",
    "print(\"a\" not in \"abcd\") # \"a\"が\"abcd\"に含まれていないか\n",
    "print(\"a\" < \"b\") # 文字列の辞書順比較"
   ]
  },
  {
   "cell_type": "markdown",
   "metadata": {},
   "source": [
    "### 3.2 条件分岐（if, elif, else）"
   ]
  },
  {
   "cell_type": "code",
   "execution_count": 273,
   "metadata": {},
   "outputs": [
    {
     "name": "stdout",
     "output_type": "stream",
     "text": [
      "yes\n",
      "positive\n"
     ]
    }
   ],
   "source": [
    "# Pythonではインデントでブロックを区別\n",
    "if True:\n",
    "    print(\"yes\")\n",
    "\n",
    "a = 1\n",
    "if a == 0:\n",
    "    print(\"zero\")\n",
    "elif a > 0:\n",
    "    print(\"positive\")\n",
    "else:\n",
    "    print(\"negative\")"
   ]
  },
  {
   "cell_type": "code",
   "execution_count": 39,
   "metadata": {},
   "outputs": [
    {
     "name": "stdout",
     "output_type": "stream",
     "text": [
      "OK\n",
      "OK\n"
     ]
    }
   ],
   "source": [
    "# 複数の条件は\"and\"と\"or\"で書きます\n",
    "a,b = 4,6\n",
    "if a % 2 == 0 and b % 2 == 0:\n",
    "    print(\"OK\")\n",
    "\n",
    "a,b = 1,2\n",
    "if a % 2 == 0 or b % 2 == 0:\n",
    "    print(\"OK\")"
   ]
  },
  {
   "cell_type": "markdown",
   "metadata": {},
   "source": [
    "### 3.3 反復処理"
   ]
  },
  {
   "cell_type": "markdown",
   "metadata": {},
   "source": [
    "#### while文"
   ]
  },
  {
   "cell_type": "code",
   "execution_count": 277,
   "metadata": {},
   "outputs": [
    {
     "name": "stdout",
     "output_type": "stream",
     "text": [
      "0\n",
      "1\n",
      "2\n",
      "3\n",
      "4\n",
      "count 5\n"
     ]
    }
   ],
   "source": [
    "count = 0\n",
    "while count < 5:\n",
    "    print(count)\n",
    "    count += 1\n",
    "\n",
    "print(\"count\",count)"
   ]
  },
  {
   "cell_type": "code",
   "execution_count": 284,
   "metadata": {},
   "outputs": [
    {
     "name": "stdout",
     "output_type": "stream",
     "text": [
      "5\n"
     ]
    }
   ],
   "source": [
    "# break,continueもある\n",
    "count = 0\n",
    "while count < 10:\n",
    "    if count == 5:\n",
    "        break\n",
    "    count += 1\n",
    "\n",
    "print(count)"
   ]
  },
  {
   "cell_type": "code",
   "execution_count": 287,
   "metadata": {},
   "outputs": [
    {
     "name": "stdout",
     "output_type": "stream",
     "text": [
      "0\n",
      "1\n",
      "2\n",
      "3\n",
      "4\n",
      "count 5\n"
     ]
    }
   ],
   "source": [
    "# while文が正常に終了したときの処理はelse文でも書ける（breakで抜けると実行されない）\n",
    "count = 0\n",
    "while count < 5:\n",
    "    print(count)\n",
    "    count += 1\n",
    "else:\n",
    "    print(\"count\",count)"
   ]
  },
  {
   "cell_type": "markdown",
   "metadata": {},
   "source": [
    "#### for文\n",
    "* 文字列やリストのような順番のある要素の集まりをシーケンス型と呼ぶ\n",
    "* シーケンス型や辞書型はイテラブルオブジェクト（反復処理が可能なオブジェクト）\n",
    "* for文ではイテラブルオブジェクトを使ってループ処理を行う\n",
    "* Javaの拡張for文みたいなもの？"
   ]
  },
  {
   "cell_type": "code",
   "execution_count": 290,
   "metadata": {},
   "outputs": [
    {
     "name": "stdout",
     "output_type": "stream",
     "text": [
      "0\n",
      "1\n",
      "2\n",
      "3\n"
     ]
    }
   ],
   "source": [
    "# リストによる反復処理\n",
    "list1 = [0,1,2,3]\n",
    "for i in list1:\n",
    "    print(i)"
   ]
  },
  {
   "cell_type": "code",
   "execution_count": 291,
   "metadata": {},
   "outputs": [
    {
     "name": "stdout",
     "output_type": "stream",
     "text": [
      "a\n",
      "b\n",
      "c\n",
      "d\n"
     ]
    }
   ],
   "source": [
    "# 文字列による反復処理\n",
    "string = \"abcd\"\n",
    "for i in string:\n",
    "    print(i)"
   ]
  },
  {
   "cell_type": "code",
   "execution_count": 48,
   "metadata": {},
   "outputs": [
    {
     "name": "stdout",
     "output_type": "stream",
     "text": [
      "[0, 1, 2, 3, 4, 5, 6, 7, 8, 9]\n",
      "[3, 4]\n",
      "[0, 2, 4, 6, 8]\n",
      "[9, 8, 7, 6, 5, 4, 3, 2, 1, 0]\n"
     ]
    }
   ],
   "source": [
    "# range()関数を使うと指定した範囲の整数のシーケンスを生成できる\n",
    "# スライスと似たような感じで指定\n",
    "print(list(range(10))) # 0~9\n",
    "print(list(range(3,5))) # 3 ~ 4\n",
    "print(list(range(0,10,2))) # 0 ~ 9を2ごと\n",
    "print(list(range(9,-1,-1))) # 9 ~ -1"
   ]
  },
  {
   "cell_type": "code",
   "execution_count": 49,
   "metadata": {},
   "outputs": [
    {
     "name": "stdout",
     "output_type": "stream",
     "text": [
      "0\n",
      "1\n",
      "2\n",
      "3\n",
      "4\n"
     ]
    }
   ],
   "source": [
    "for i in range(5):\n",
    "    print(i)"
   ]
  },
  {
   "cell_type": "markdown",
   "metadata": {},
   "source": [
    "### 3.4 リスト内包表記\n",
    "* 他にも辞書内包表記，集合内包表記などもある"
   ]
  },
  {
   "cell_type": "code",
   "execution_count": 306,
   "metadata": {},
   "outputs": [
    {
     "name": "stdout",
     "output_type": "stream",
     "text": [
      "[1, 2, 3, 4, 5]\n",
      "[1, 2, 3, 4, 5]\n"
     ]
    }
   ],
   "source": [
    "# 1 ~ 5からなる整数のリストを作る際はこんな書き方を思いつく\n",
    "list1 = []\n",
    "for i in range(1,6):\n",
    "    list1.append(i)\n",
    "\n",
    "list2 = list(range(1,6))\n",
    "\n",
    "print(list1)\n",
    "print(list2)"
   ]
  },
  {
   "cell_type": "code",
   "execution_count": 307,
   "metadata": {},
   "outputs": [
    {
     "name": "stdout",
     "output_type": "stream",
     "text": [
      "[1, 2, 3, 4, 5]\n"
     ]
    }
   ],
   "source": [
    "# 内包表記だとこのように書ける\n",
    "# [expression for item in iterable]\n",
    "\n",
    "list1 = [i for i in range(1,6)]\n",
    "print(list1)"
   ]
  },
  {
   "cell_type": "code",
   "execution_count": 57,
   "metadata": {},
   "outputs": [
    {
     "name": "stdout",
     "output_type": "stream",
     "text": [
      "[1, 4, 9, 16, 25]\n"
     ]
    }
   ],
   "source": [
    "# 式でも書ける\n",
    "list1 = [i**2 for i in range(1,6)]\n",
    "print(list1)"
   ]
  },
  {
   "cell_type": "code",
   "execution_count": 309,
   "metadata": {},
   "outputs": [
    {
     "name": "stdout",
     "output_type": "stream",
     "text": [
      "[1, 3, 5]\n"
     ]
    }
   ],
   "source": [
    "# 内包表記では条件式も追加できる\n",
    "# [expression for item in iterable　if condition]\n",
    "\n",
    "# 奇数だけからなるリストを作成する\n",
    "list1 = [i for i in range(1,6) if i % 2 != 0]\n",
    "print(list1)"
   ]
  },
  {
   "cell_type": "code",
   "execution_count": 50,
   "metadata": {},
   "outputs": [
    {
     "name": "stdout",
     "output_type": "stream",
     "text": [
      "[0, 0, 0, 0, 0]\n"
     ]
    }
   ],
   "source": [
    "# あらかじめ指定した長さのリストを初期化して得たい場合などにも使う\n",
    "list1 = [0 for i in range(5)]\n",
    "print(list1)"
   ]
  },
  {
   "cell_type": "code",
   "execution_count": 51,
   "metadata": {},
   "outputs": [
    {
     "name": "stdout",
     "output_type": "stream",
     "text": [
      "[(0, 0), (0, 1), (0, 2), (0, 3), (0, 4), (1, 0), (1, 1), (1, 2), (1, 3), (1, 4), (2, 0), (2, 1), (2, 2), (2, 3), (2, 4), (3, 0), (3, 1), (3, 2), (3, 3), (3, 4), (4, 0), (4, 1), (4, 2), (4, 3), (4, 4)]\n",
      "[(0, 1), (0, 3), (2, 1), (2, 3), (4, 1), (4, 3)]\n"
     ]
    }
   ],
   "source": [
    "# 二重ループもできる\n",
    "list1 = [(x,y) for x in range(5) for y in range(5)]\n",
    "\n",
    "# ループそれぞれに条件をつけることも可能\n",
    "list2 = [(x,y) for x in range(5) if x % 2 == 0 for y in range(5) if y % 2 != 0]\n",
    "\n",
    "print(list1)\n",
    "print(list2)"
   ]
  },
  {
   "cell_type": "markdown",
   "metadata": {},
   "source": [
    "### 3.5 関数"
   ]
  },
  {
   "cell_type": "markdown",
   "metadata": {},
   "source": [
    "#### 定義と呼び出し"
   ]
  },
  {
   "cell_type": "code",
   "execution_count": 1,
   "metadata": {},
   "outputs": [],
   "source": [
    "def call_function():\n",
    "    print(\"Called!\")"
   ]
  },
  {
   "cell_type": "code",
   "execution_count": 2,
   "metadata": {},
   "outputs": [
    {
     "name": "stdout",
     "output_type": "stream",
     "text": [
      "Called!\n"
     ]
    }
   ],
   "source": [
    "call_function()"
   ]
  },
  {
   "cell_type": "markdown",
   "metadata": {},
   "source": [
    "#### 引数と返り値"
   ]
  },
  {
   "cell_type": "code",
   "execution_count": 4,
   "metadata": {},
   "outputs": [],
   "source": [
    "def greeting(name):\n",
    "    return \"Hello\" + \" \" + name"
   ]
  },
  {
   "cell_type": "code",
   "execution_count": 6,
   "metadata": {},
   "outputs": [
    {
     "name": "stdout",
     "output_type": "stream",
     "text": [
      "Hello Python\n"
     ]
    }
   ],
   "source": [
    "s = greeting(\"Python\")\n",
    "print(s)"
   ]
  },
  {
   "cell_type": "markdown",
   "metadata": {},
   "source": [
    "#### 引数の渡し方"
   ]
  },
  {
   "cell_type": "code",
   "execution_count": 9,
   "metadata": {},
   "outputs": [],
   "source": [
    "def student_info(number,name,age):\n",
    "    return {\"number\":number,\"name\":name,\"age\":age}"
   ]
  },
  {
   "cell_type": "code",
   "execution_count": 26,
   "metadata": {},
   "outputs": [
    {
     "name": "stdout",
     "output_type": "stream",
     "text": [
      "{'number': '0001', 'name': 'Bob', 'age': 20}\n",
      "{'number': '0002', 'name': 'Alice', 'age': 19}\n"
     ]
    }
   ],
   "source": [
    "### 位置を合わせて渡す（位置引数）\n",
    "print(student_info(\"0001\",\"Bob\",20))\n",
    "\n",
    "### キーワードを指定して渡す（位置を合わせなくて良い）（キーワード引数）\n",
    "print(student_info(name=\"Alice\",age=19,number=\"0002\"))"
   ]
  },
  {
   "cell_type": "markdown",
   "metadata": {},
   "source": [
    "#### デフォルト引数値\n",
    "* 仮引数にデフォルト値を指定できる\n",
    "* 関数に引数が渡されなかった場合に使われる"
   ]
  },
  {
   "cell_type": "code",
   "execution_count": 19,
   "metadata": {},
   "outputs": [],
   "source": [
    "def student_info2(number,name,age=\"unset\"):\n",
    "    return {\"number\":number,\"name\":name,\"age\":age}"
   ]
  },
  {
   "cell_type": "code",
   "execution_count": 20,
   "metadata": {},
   "outputs": [
    {
     "name": "stdout",
     "output_type": "stream",
     "text": [
      "{'number': '0003', 'name': 'Hoge', 'age': 'unset'}\n"
     ]
    }
   ],
   "source": [
    "print(student_info2(number=\"0003\",name=\"Hoge\")) # ageを渡していない"
   ]
  },
  {
   "cell_type": "markdown",
   "metadata": {},
   "source": [
    "#### 位置引数のタプル化"
   ]
  },
  {
   "cell_type": "code",
   "execution_count": 21,
   "metadata": {},
   "outputs": [],
   "source": [
    "def print_args(*args): # 引数の先頭に*をつける\n",
    "    print(args)"
   ]
  },
  {
   "cell_type": "code",
   "execution_count": 24,
   "metadata": {},
   "outputs": [
    {
     "name": "stdout",
     "output_type": "stream",
     "text": [
      "(1, 'abcd', 9, True, [1, 2, 3, 4])\n"
     ]
    }
   ],
   "source": [
    "print_args(1,\"abcd\",9,True,[1,2,3,4]) # いくらでも位置引数を渡せる（タプル化されてまとめられる）"
   ]
  },
  {
   "cell_type": "markdown",
   "metadata": {},
   "source": [
    "#### キーワード引数の辞書化"
   ]
  },
  {
   "cell_type": "code",
   "execution_count": 27,
   "metadata": {},
   "outputs": [],
   "source": [
    "def print_kwargs(**kwargs): # 引数の先頭に**をつける\n",
    "    print(kwargs)"
   ]
  },
  {
   "cell_type": "code",
   "execution_count": 29,
   "metadata": {},
   "outputs": [
    {
     "name": "stdout",
     "output_type": "stream",
     "text": [
      "{'num': 1, 'name': 'bob', 'list1': [1, 2, 3, 4]}\n"
     ]
    }
   ],
   "source": [
    "print_kwargs(num=1,name=\"bob\",list1=[1,2,3,4]) # いくらでもキーワード引数を渡せる（辞書化されてまとめられる）"
   ]
  },
  {
   "cell_type": "markdown",
   "metadata": {},
   "source": [
    "### 3.5 例外処理\n",
    "* エラーが出た際に行う処理を記述\n",
    "* 時間がかかる処理をするときとかに使いそう（途中で止まると困る，エラーの状況を知りたいなど）\n",
    "* エラーの種別ごとに条件分岐させることも可能"
   ]
  },
  {
   "cell_type": "code",
   "execution_count": 33,
   "metadata": {},
   "outputs": [
    {
     "name": "stdout",
     "output_type": "stream",
     "text": [
      "0\n",
      "1\n",
      "2\n",
      "3\n",
      "4\n",
      "error index: 5\n",
      "error index: 6\n",
      "error index: 7\n",
      "error index: 8\n",
      "error index: 9\n"
     ]
    }
   ],
   "source": [
    "list1 = [0,1,2,3,4]\n",
    "index = 0\n",
    "while index < 10:\n",
    "    try:\n",
    "        print(list1[index]) # エラーが出そうな処理\n",
    "    except:\n",
    "        print(\"error index:\",index)\n",
    "    index += 1"
   ]
  },
  {
   "cell_type": "markdown",
   "metadata": {},
   "source": [
    "## 課題"
   ]
  },
  {
   "cell_type": "markdown",
   "metadata": {},
   "source": [
    "### FizzBuzz問題\n",
    "* 1~50までの数字を表示する\n",
    "* 3で割り切れる数はFizzと表示\n",
    "* 5で割り切れる数をBuzzと表示\n",
    "* 3,5の両方で割り切れる数をFizzBuzzと表示"
   ]
  },
  {
   "cell_type": "code",
   "execution_count": 1,
   "metadata": {},
   "outputs": [
    {
     "name": "stdout",
     "output_type": "stream",
     "text": [
      "1\n",
      "2\n",
      "Fizz\n",
      "4\n",
      "Buzz\n",
      "Fizz\n",
      "7\n",
      "8\n",
      "Fizz\n",
      "Buzz\n",
      "11\n",
      "Fizz\n",
      "13\n",
      "14\n",
      "FizzBuzz\n",
      "16\n",
      "17\n",
      "Fizz\n",
      "19\n",
      "Buzz\n",
      "Fizz\n",
      "22\n",
      "23\n",
      "Fizz\n",
      "Buzz\n",
      "26\n",
      "Fizz\n",
      "28\n",
      "29\n",
      "FizzBuzz\n",
      "31\n",
      "32\n",
      "Fizz\n",
      "34\n",
      "Buzz\n",
      "Fizz\n",
      "37\n",
      "38\n",
      "Fizz\n",
      "Buzz\n",
      "41\n",
      "Fizz\n",
      "43\n",
      "44\n",
      "FizzBuzz\n",
      "46\n",
      "47\n",
      "Fizz\n",
      "49\n",
      "Buzz\n"
     ]
    }
   ],
   "source": [
    "for i in range(1,51):\n",
    "    if i % 15 == 0:\n",
    "        print(\"FizzBuzz\")\n",
    "    elif i % 3 == 0:\n",
    "        print(\"Fizz\")\n",
    "    elif i % 5 == 0:\n",
    "        print(\"Buzz\")\n",
    "    else:\n",
    "        print(i)"
   ]
  },
  {
   "cell_type": "code",
   "execution_count": null,
   "metadata": {},
   "outputs": [],
   "source": []
  },
  {
   "cell_type": "markdown",
   "metadata": {},
   "source": [
    "### [03. 円周率](http://www.cl.ecei.tohoku.ac.jp/nlp100/#sec03)\n",
    "\"Now I need a drink, alcoholic of course, after the heavy lectures involving quantum mechanics.\"という文を単語に分解し，各単語の（アルファベットの）文字数を先頭から出現順に並べたリストを作成せよ．\n",
    "```\n",
    "sentence = \"Now I need a drink, alcoholic of course, after the heavy lectures involving quantum mechanics.\"\n",
    "\n",
    "```\n",
    "* ヒント\n",
    "    * split()関数を使うと文字列をリストに分割できる\n",
    "    * \".\"や\",\"を含む場合に注意"
   ]
  },
  {
   "cell_type": "code",
   "execution_count": 327,
   "metadata": {},
   "outputs": [
    {
     "name": "stdout",
     "output_type": "stream",
     "text": [
      "[3, 1, 4, 1, 5, 9, 2, 6, 5, 3, 5, 8, 9, 7, 9]\n"
     ]
    }
   ],
   "source": [
    "sentence = \"Now I need a drink, alcoholic of course, after the heavy lectures involving quantum mechanics.\"\n",
    "sentence = sentence.split(\" \")\n",
    "res = []\n",
    "for s in sentence:\n",
    "    if \",\" in s or \".\" in s:\n",
    "        res.append(len(s)-1)\n",
    "    else:\n",
    "        res.append(len(s))\n",
    "print(res)"
   ]
  },
  {
   "cell_type": "markdown",
   "metadata": {},
   "source": [
    "### [04. 元素記号](http://www.cl.ecei.tohoku.ac.jp/nlp100/#sec04)\n",
    "\"Hi He Lied Because Boron Could Not Oxidize Fluorine. New Nations Might Also Sign Peace Security Clause. Arthur King Can.\"という文を単語に分解し，1, 5, 6, 7, 8, 9, 15, 16, 19番目の単語は先頭の1文字，それ以外の単語は先頭に2文字を取り出し，取り出した文字列から単語の位置（先頭から何番目の単語か）への連想配列（辞書型もしくはマップ型）を作成せよ．\n",
    "```\n",
    "sentence = \"Hi He Lied Because Boron Could Not Oxidize Fluorine. New Nations Might Also Sign Peace Security Clause. Arthur King Can.\"\n",
    "num = [1, 5, 6, 7, 8, 9, 15, 16, 19]\n",
    "```"
   ]
  },
  {
   "cell_type": "code",
   "execution_count": 8,
   "metadata": {},
   "outputs": [
    {
     "name": "stdout",
     "output_type": "stream",
     "text": [
      "{'H': 1, 'He': 2, 'Li': 3, 'Be': 4, 'B': 5, 'C': 6, 'N': 7, 'O': 8, 'F': 9, 'Ne': 10, 'Na': 11, 'Mi': 12, 'Al': 13, 'Si': 14, 'P': 15, 'S': 16, 'Cl': 17, 'Ar': 18, 'K': 19, 'Ca': 20}\n"
     ]
    }
   ],
   "source": [
    "sentence = \"Hi He Lied Because Boron Could Not Oxidize Fluorine. New Nations Might Also Sign Peace Security Clause. Arthur King Can.\"\n",
    "sentence = sentence.split(\" \")\n",
    "num = [1, 5, 6, 7, 8, 9, 15, 16, 19]\n",
    "res = {}\n",
    "\n",
    "for i in range(1,len(sentence)+1): \n",
    "    if i in num:\n",
    "        res[sentence[i-1][0]] = i\n",
    "    else:\n",
    "        res[sentence[i-1][:2]] = i\n",
    "\n",
    "print(res)\n",
    "        "
   ]
  },
  {
   "cell_type": "markdown",
   "metadata": {},
   "source": [
    "### [ABC083B - Some Sums](https://atcoder.jp/contests/abs/tasks/abc083_b)\n",
    "**問題文**  \n",
    "1 以上 N 以下の整数のうち、10 進法での各桁の和が A 以上 B 以下であるものの総和を求めてください。\n",
    "\n",
    "**入力**  \n",
    "入力は以下の形式で標準入力から与えられる。\n",
    "```\n",
    "N A B\n",
    "```\n",
    "\n",
    "**出力**  \n",
    "1 以上N 以下の整数のうち、10 進法での各桁の和が A 以上B 以下であるものの総和を出力せよ。\n",
    "\n",
    "#### 入力の受け取り方\n",
    "```python\n",
    "N,A,B = map(int,input().split())\n",
    "```\n",
    "\n",
    "#### サンプル1\n",
    "* 入力\n",
    "```\n",
    "20 2 5\n",
    "```\n",
    "* 出力\n",
    "```\n",
    "84\n",
    "```\n",
    "20 以下の整数のうち、各桁の和が 2 以上 5 以下なのは 2,3,4,5,11,12,13,14,20 です。これらの合計である 84 を出力します。\n",
    "\n",
    "#### サンプル2\n",
    "* 入力\n",
    "```\n",
    "10 1 2\n",
    "```\n",
    "* 出力\n",
    "```\n",
    "13\n",
    "```\n",
    "\n",
    "#### サンプル3\n",
    "* 入力\n",
    "```\n",
    "100 4 16\n",
    "```\n",
    "* 出力\n",
    "```\n",
    "4554\n",
    "```"
   ]
  },
  {
   "cell_type": "code",
   "execution_count": 11,
   "metadata": {},
   "outputs": [
    {
     "name": "stdout",
     "output_type": "stream",
     "text": [
      "20 2 5\n",
      "84\n"
     ]
    }
   ],
   "source": [
    "N,A,B = map(int,input().split())\n",
    "res = 0                     # 結果を格納する変数を初期化\n",
    "for i in range(N+1):        # 0~Nまでをループ\n",
    "    digit = list(str(i))    # Nの各桁を格納するリストを作成\n",
    "    total = 0               # 各桁の合計値を格納する変数を初期化\n",
    "    for j in digit:         # 各桁を格納したリストでループ\n",
    "        total += int(j)    # 文字列で格納されているのでintに変換して合計値に加算\n",
    "    if A <= total <= B:    # 合計値が条件を満たしているか判定\n",
    "        res += i           # 合計値が条件を満たしたら結果にiを加算\n",
    "\n",
    "print(res)                  # 結果を表示"
   ]
  },
  {
   "cell_type": "markdown",
   "metadata": {},
   "source": [
    "## 教材など\n",
    "### 問題演習\n",
    "* [言語処理100本ノック 2015](http://www.cl.ecei.tohoku.ac.jp/nlp100/#)\n",
    "    * お隣の研究室の勉強会でも使われてるやつ\n",
    "    * 「円周率」，「元素記号」はここから出題\n",
    "    * 1章だけでもやっておくと良いかも\n",
    "    * 色々な人が解いたコードなどを公開してるのでいざとなったら調べられる\n",
    "    * 言語処理をやってみたい人，使うかもしれない人にオススメ\n",
    "* [AtCoder](https://atcoder.jp/?lang=ja)\n",
    "    * 競技プログラミングサイト\n",
    "    *  「ABC083B - Some Sums」はここから出題\n",
    "    * 最近[話題](http://kumagi.hatenablog.com/entry/how-i-enter-google)になった気がする\n",
    "    * 他の人の提出コードも見ることができるので勉強になる\n",
    "    * とりあえずこちらを見よう→[AtCoder に登録したら次にやること ～ これだけ解けば十分闘える！過去問精選 10 問 ～](https://qiita.com/drken/items/fd4e5e3630d0f5859067)\n",
    "    * [AtCoderで始めるPython\n",
    "](https://qiita.com/KoyanagiHitoshi/items/3286fbc65d56dd67737c)\n",
    "\n",
    "### チュートリアル\n",
    "* [Python チュートリアル](https://docs.python.org/ja/3/tutorial/index.html)\n",
    "    * 公式ドキュメントのチュートリアル\n",
    "    * 詳しい文法が確認できると思います\n",
    "* [CODEPREP](https://codeprep.jp/books?tags=Python&sortBy=createdAt&keyword=)\n",
    "    * [サービス終了してるのに全部無料で公開し続けててすごい](https://twitter.com/codeprep_jp/status/1046618658347180032)\n",
    "    * 基本文法以外にも色々なチュートリアルがある\n",
    "    * Python以外も"
   ]
  },
  {
   "cell_type": "markdown",
   "metadata": {},
   "source": [
    "## 参考文献\n",
    "* [入門Python3](https://www.amazon.co.jp/入門-Python-3-Bill-Lubanovic/dp/4873117380/ref=cm_cr_arp_d_product_top?ie=UTF8)\n",
    "* [Python 3.7.3 ドキュメント](https://docs.python.org/ja/3/)\n",
    "* [Python - Wikipedia](https://ja.wikipedia.org/wiki/Python)\n",
    "* [言語処理100本ノック 2015](http://www.cl.ecei.tohoku.ac.jp/nlp100/)\n",
    "* [AtCoder](https://atcoder.jp/)\n",
    "* [お気楽 Python プログラミング入門](http://www.nct9.ne.jp/m_hiroi/light/python01.html)\n",
    "* [お気楽 Python3 プログラミング超入門](http://www.nct9.ne.jp/m_hiroi/light/pythonb01.html)"
   ]
  },
  {
   "cell_type": "code",
   "execution_count": null,
   "metadata": {},
   "outputs": [],
   "source": []
  }
 ],
 "metadata": {
  "kernelspec": {
   "display_name": "Python 3",
   "language": "python",
   "name": "python3"
  },
  "language_info": {
   "codemirror_mode": {
    "name": "ipython",
    "version": 3
   },
   "file_extension": ".py",
   "mimetype": "text/x-python",
   "name": "python",
   "nbconvert_exporter": "python",
   "pygments_lexer": "ipython3",
   "version": "3.6.8"
  }
 },
 "nbformat": 4,
 "nbformat_minor": 2
}
